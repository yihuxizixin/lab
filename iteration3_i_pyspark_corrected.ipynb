{
 "cells": [
  {
   "cell_type": "code",
   "execution_count": null,
   "id": "b5dbea2a",
   "metadata": {},
   "outputs": [],
   "source": [
    "\n",
    "import findspark\n",
    "findspark.init()\n",
    "\n",
    "from pyspark.sql import SparkSession\n",
    "from pyspark.sql.functions import col, mean, when\n",
    "\n",
    "# 初始化 Spark 会话\n",
    "spark = SparkSession.builder.appName('iteration3').getOrCreate()\n"
   ]
  },
  {
   "cell_type": "code",
   "execution_count": null,
   "id": "6c8663a2",
   "metadata": {},
   "outputs": [],
   "source": [
    "import matplotlib.pyplot as plt\n",
    "import seaborn as sns\n",
    "\n",
    "import os\n",
    "\n",
    "import warnings\n",
    "from sklearn.experimental import enable_iterative_imputer \n",
    "from sklearn.impute import IterativeImputer\n",
    "\n",
    "warnings.filterwarnings('ignore', category=FutureWarning)\n"
   ]
  },
  {
   "cell_type": "code",
   "execution_count": null,
   "id": "a4d37f56",
   "metadata": {},
   "outputs": [],
   "source": [
    "# 分别为每个年份创建DataFrame\n",
    "data_2013 = spark.read.csv(\"2013.csv\")\n",
    "data_2015 = spark.read.csv(\"2015.csv\")\n",
    "data_2016 = spark.read.csv(\"2016.csv\")\n",
    "data_2017 = spark.read.csv(\"2017.csv\")\n",
    "data_2018 = spark.read.csv(\"2018.csv\")\n",
    "data_2019 = spark.read.csv(\"2019.csv\")\n",
    "data_2020 = spark.read.csv(\"2020.csv\")\n",
    "data_2021 = spark.read.csv(\"2021.csv\")\n",
    "data_2022 = spark.read.csv(\"2022.csv\")\n",
    "data_2023 = spark.read.csv(\"2023.csv\")\n",
    "\n",
    "\n"
   ]
  },
  {
   "cell_type": "code",
   "execution_count": null,
   "id": "b37ce8d9",
   "metadata": {},
   "outputs": [],
   "source": [
    "\n",
    "\n",
    "\n",
    "folder_path = '/Users/zhoudaozhen/Desktop/722/iteration3'\n",
    "\n",
    "data_frames = [)\n",
    "common_columns = None\n",
    "\n",
    "for year in range(2013, 2024):\n",
    "    if year != 2014:\n",
    "        file_path = os.path.join(folder_path, f\"{year}.csv\")\n",
    "        if os.path.exists(file_path):\n",
    "            df = spark.read.csv(file_path)\n",
    "            data_frames.append(df)\n",
    "            if common_columns is None:\n",
    "                common_columns = set(df.columns)\n",
    "            else:\n",
    "                common_columns.intersection_update(df.columns)\n",
    "\n",
    "filtered_data_frames = [df.filter(list(common_columns)) for df in data_frames)\n",
    "\n",
    "combined_data = pd.concat(filtered_data_frames, ignore_index=True)\n",
    "\n",
    "\n",
    "data_attribute = pd.read_excel('P_Data_Extract_From_World_Development_Indicators.xlsx')\n",
    "\n"
   ]
  },
  {
   "cell_type": "code",
   "execution_count": null,
   "id": "08c9aaa3",
   "metadata": {},
   "outputs": [],
   "source": [
    "combined_data"
   ]
  },
  {
   "cell_type": "code",
   "execution_count": null,
   "id": "daf43dfd",
   "metadata": {},
   "outputs": [],
   "source": [
    "data_2013.head(15)"
   ]
  },
  {
   "cell_type": "code",
   "execution_count": null,
   "id": "13b1cb7a",
   "metadata": {},
   "outputs": [],
   "source": [
    "round(data_2013.describe().transpose(),2)"
   ]
  },
  {
   "cell_type": "code",
   "execution_count": null,
   "id": "2fe01cd4",
   "metadata": {},
   "outputs": [],
   "source": [
    "# 选择数值型数据列\n",
    "numerical_cols = data_2013.select_dtypes(include=['number')).columns\n",
    "numerical_cols = [col for col in numerical_cols if col not in ['Year', 'Happiness (Yesterday)'))\n",
    "# 设置画布大小\n",
    "plt.figure(figsize=(15, len(numerical_cols) // 3 * 5))\n",
    "\n",
    "# 为每个数值型属性画图\n",
    "for i, col in enumerate(numerical_cols):\n",
    "    plt.subplot(len(numerical_cols) // 3 + 1, 3, i + 1)  # 确保有足够的行数容纳所有图\n",
    "    sns.histplot(data_2013[col), kde=True)\n",
    "\n",
    "# 调整子图间距\n",
    "plt.tight_layout()\n",
    "plt.savefig(\"/Users/zhoudaozhen/Desktop/722/iteration3/pic/9\", format='png')\n",
    "plt.show()\n"
   ]
  },
  {
   "cell_type": "code",
   "execution_count": null,
   "id": "726eef9e",
   "metadata": {},
   "outputs": [],
   "source": [
    "data_2020.head(10)"
   ]
  },
  {
   "cell_type": "code",
   "execution_count": null,
   "id": "6730c0b5",
   "metadata": {},
   "outputs": [],
   "source": [
    "round(data_2020.describe().transpose(),2)"
   ]
  },
  {
   "cell_type": "code",
   "execution_count": null,
   "id": "e99f3a17",
   "metadata": {},
   "outputs": [],
   "source": [
    "# 选择数值型数据列\n",
    "numerical_cols = data_2020.select_dtypes(include=['number')).columns\n",
    "numerical_cols = [col for col in numerical_cols if col not in ['Year', 'Happiness (Yesterday)','Happiness Rank'))\n",
    "# 设置画布大小\n",
    "plt.figure(figsize=(15, len(numerical_cols) // 3 * 5))\n",
    "\n",
    "# 为每个数值型属性画图\n",
    "for i, col in enumerate(numerical_cols):\n",
    "    plt.subplot(len(numerical_cols) // 3 + 1, 3, i + 1)  # 确保有足够的行数容纳所有图\n",
    "    sns.histplot(data_2020[col), kde=True)\n",
    "\n",
    "# 调整子图间距\n",
    "plt.tight_layout()\n",
    "plt.savefig(\"/Users/zhoudaozhen/Desktop/722/iteration3/pic/12\", format='png')\n",
    "plt.show()\n"
   ]
  },
  {
   "cell_type": "code",
   "execution_count": null,
   "id": "e5aa4f90",
   "metadata": {},
   "outputs": [],
   "source": [
    "print(f\"number of rows: {combined_data.shape[0)}, number of colnums: {combined_data.shape[1)}\")"
   ]
  },
  {
   "cell_type": "code",
   "execution_count": null,
   "id": "7182aed3",
   "metadata": {},
   "outputs": [],
   "source": [
    "combined_data.info()"
   ]
  },
  {
   "cell_type": "code",
   "execution_count": null,
   "id": "73ec8636",
   "metadata": {},
   "outputs": [],
   "source": [
    "round(combined_data.describe().transpose(),2)"
   ]
  },
  {
   "cell_type": "code",
   "execution_count": null,
   "id": "33767a29",
   "metadata": {},
   "outputs": [],
   "source": [
    "print(f\"number of rows: {data_attribute.shape[0)}, number of colnums: {data_attribute.shape[1)}\")"
   ]
  },
  {
   "cell_type": "code",
   "execution_count": null,
   "id": "e6e42af2",
   "metadata": {},
   "outputs": [],
   "source": [
    "data_attribute.info()"
   ]
  },
  {
   "cell_type": "code",
   "execution_count": null,
   "id": "95b0ab73",
   "metadata": {},
   "outputs": [],
   "source": [
    "data_attribute.replace('..', np.nan, inplace=True)"
   ]
  },
  {
   "cell_type": "code",
   "execution_count": null,
   "id": "ca61fa91",
   "metadata": {},
   "outputs": [],
   "source": [
    "data_attribute.info()"
   ]
  },
  {
   "cell_type": "code",
   "execution_count": null,
   "id": "1771aa6c",
   "metadata": {},
   "outputs": [],
   "source": [
    "round(data_attribute.describe().transpose(),2)"
   ]
  },
  {
   "cell_type": "code",
   "execution_count": null,
   "id": "fe283148",
   "metadata": {},
   "outputs": [],
   "source": [
    "data_attribute"
   ]
  },
  {
   "cell_type": "code",
   "execution_count": null,
   "id": "0fab47c1",
   "metadata": {},
   "outputs": [],
   "source": [
    "# 选择数值型数据列\n",
    "numerical_cols = data_attribute.select_dtypes(include=['number')).columns\n",
    "numerical_cols = [col for col in numerical_cols if col not in ['Year', 'Happiness (Yesterday)','Happiness Rank'))\n",
    "# 设置画布大小\n",
    "plt.figure(figsize=(15, len(numerical_cols) // 5 * 5))\n",
    "\n",
    "# 为每个数值型属性画图\n",
    "for i, col in enumerate(numerical_cols):\n",
    "    plt.subplot(len(numerical_cols) // 5 + 1, 5, i + 1)  # 确保有足够的行数容纳所有图\n",
    "    sns.histplot(data_attribute[col), kde=True)\n",
    "\n",
    "# 调整子图间距\n",
    "plt.tight_layout()\n",
    "plt.savefig(\"/Users/zhoudaozhen/Desktop/722/iteration3/pic/17.png\", format='png')\n",
    "plt.show()\n"
   ]
  },
  {
   "cell_type": "code",
   "execution_count": null,
   "id": "5fef8944",
   "metadata": {},
   "outputs": [],
   "source": []
  },
  {
   "cell_type": "code",
   "execution_count": null,
   "id": "8dbe3680",
   "metadata": {},
   "outputs": [],
   "source": [
    "# 假设data_2015是你的DataFrame，并且它已经加载\n",
    "regions = data_2015['Region').unique()\n",
    "\n",
    "# 每行显示三张图\n",
    "num_cols = 3\n",
    "num_rows = int(np.ceil(len(regions) / num_cols))\n",
    "\n",
    "fig, axes = plt.subplots(num_rows, num_cols, figsize=(num_cols * 5, num_rows * 5))\n",
    "\n",
    "for i, region in enumerate(regions):\n",
    "    # 选择当前region的子DataFrame\n",
    "    sub_df = data_2015[data_2015['Region') == region)\n",
    "    \n",
    "    # 创建该region的图\n",
    "    G = nx.Graph()\n",
    "    G.add_node(region)  # 添加地区节点\n",
    "    for country in sub_df.filter('Country'):\n",
    "        G.add_node(country)  # 添加国家节点\n",
    "        G.add_edge(region, country)  # 创建边\n",
    "    \n",
    "    # 计算布局\n",
    "    pos = nx.circular_layout(G)  # 为了简单起见，我们使用圆形布局\n",
    "    \n",
    "    # 计算当前子图的行列位置\n",
    "    row = i // num_cols\n",
    "    col = i % num_cols\n",
    "    \n",
    "    # 在子图上绘制网络图\n",
    "    nx.draw(G, pos, ax=axes[row, col), with_labels=True)\n",
    "    axes[row, col).set_title(region)\n",
    "    \n",
    "    # 如果当前行的图表数量不足，关闭剩余的子图\n",
    "    if i == len(regions) - 1:\n",
    "        for j in range(i + 1, num_rows * num_cols):\n",
    "            fig.delaxes(axes.flatten()[j))\n",
    "\n",
    "plt.tight_layout()\n",
    "plt.savefig(\"/Users/zhoudaozhen/Desktop/722/iteration3/Figures/1.png\", format='png')\n",
    "plt.show()"
   ]
  },
  {
   "cell_type": "code",
   "execution_count": null,
   "id": "757afba2",
   "metadata": {},
   "outputs": [],
   "source": [
    "#3. 分布图（Distribution Plots）\n",
    "# 绘制Happiness Score的分布\n",
    "plt.figure(figsize=(10, 6))\n",
    "sns.histplot(combined_data['Happiness Score'), kde=True)\n",
    "plt.title('Distribution of Happiness Scores')\n",
    "plt.savefig(\"/Users/zhoudaozhen/Desktop/722/iteration3/Figures/2.png\", format='png')\n",
    "plt.show()\n"
   ]
  },
  {
   "cell_type": "code",
   "execution_count": null,
   "id": "b2b7ac3e",
   "metadata": {},
   "outputs": [],
   "source": [
    "# 对数据按照Happiness Rank进行排序\n",
    "df_sorted =data_2015.sort_values('Happiness Rank')\n",
    "\n",
    "# 绘制直方图\n",
    "plt.figure(figsize=(20, 10))  # 可以根据国家数量调整大小\n",
    "plt.bar(df_sorted['Country'), df_sorted['Happiness Rank'), color='skyblue')\n",
    "\n",
    "# 添加标题和轴标签\n",
    "plt.title('Happiness Rank by Country')\n",
    "plt.xlabel('Country')\n",
    "plt.ylabel('Happiness Rank')\n",
    "\n",
    "# 旋转x轴标签，以便国家名可以清晰地显示\n",
    "plt.xticks(rotation=90)\n",
    "\n",
    "# 在显示之前调整布局\n",
    "plt.tight_layout()\n",
    "\n",
    "plt.savefig(\"/Users/zhoudaozhen/Desktop/722/iteration3/Figures/3.png\", format='png')\n",
    "plt.show()\n"
   ]
  },
  {
   "cell_type": "code",
   "execution_count": null,
   "id": "0f7d1aec",
   "metadata": {},
   "outputs": [],
   "source": [
    "# 首先对数据进行排序，这里假设按照'Economy (GDP per Capita)'排序\n",
    "data_2015_sorted = data_2015.sort_values('Economy (GDP per Capita)')\n",
    "\n",
    "# 创建一个新的图形\n",
    "plt.figure(figsize=(14, 7))\n",
    "\n",
    "# 对于每个属性，绘制一个线图\n",
    "for feature in ['Economy (GDP per Capita)', 'Family', 'Health (Life Expectancy)', 'Freedom', 'Trust (Government Corruption)'):\n",
    "    plt.plot(data_2015_sorted['Country'), data_2015_sorted[feature), marker='', label=feature)\n",
    "\n",
    "# 添加图例\n",
    "plt.legend()\n",
    "\n",
    "# 设置标题和轴标签\n",
    "plt.title('Attributes by Country')\n",
    "plt.xlabel('Country')\n",
    "plt.ylabel('Attribute Scores')\n",
    "\n",
    "# 旋转x轴的标签，以便国家名可以清晰地显示\n",
    "plt.xticks(fontsize=6, rotation=90)\n",
    "\n",
    "# 使用tight_layout确保所有的标签和标题都适合\n",
    "plt.tight_layout()\n",
    "plt.savefig(\"/Users/zhoudaozhen/Desktop/722/iteration3/Figures/4.png\", format='png')\n",
    "# 显示图表\n",
    "plt.show()"
   ]
  },
  {
   "cell_type": "code",
   "execution_count": null,
   "id": "9b5117fa",
   "metadata": {},
   "outputs": [],
   "source": [
    "# 绘制箱型图\n",
    "plt.figure(figsize=(12, 8))  # 设置图形大小\n",
    "boxplot = data_2015.boxplot(column=['Happiness Score'), by='Region', grid=False)\n",
    "\n",
    "# 设置标题和轴标签\n",
    "plt.title('Happiness Score by Region')\n",
    "plt.suptitle('')  # 移除默认的子标题\n",
    "plt.xlabel('Region')\n",
    "plt.ylabel('Happiness Score')\n",
    "\n",
    "# 旋转x轴的标签，以便区域名可以清晰地显示\n",
    "plt.xticks(rotation=90)\n",
    "plt.savefig(\"/Users/zhoudaozhen/Desktop/722/iteration3/Figures/5.png\", format='png')\n",
    "# 显示图表\n",
    "plt.show()"
   ]
  },
  {
   "cell_type": "code",
   "execution_count": null,
   "id": "1b22bef0",
   "metadata": {},
   "outputs": [],
   "source": [
    "#5. 成对关系（Pair Plots）\n",
    "# 选择数值类型的列来绘制成对关系\n",
    "plt.figure(figsize=(12, 8))\n",
    "sns.pairplot(combined_data[['Happiness Score', 'Economy (GDP per Capita)', 'Health (Life Expectancy)', 'Freedom')))\n",
    "plt.savefig(\"/Users/zhoudaozhen/Desktop/722/iteration3/Figures/6.png\", format='png')\n",
    "plt.show()\n"
   ]
  },
  {
   "cell_type": "code",
   "execution_count": null,
   "id": "3bb7fa29",
   "metadata": {},
   "outputs": [],
   "source": [
    "dataatt = pd.read_excel('P_Data_Extract_From_World_Development_Indicators (3).xlsx')\n"
   ]
  },
  {
   "cell_type": "code",
   "execution_count": null,
   "id": "3088169d",
   "metadata": {},
   "outputs": [],
   "source": [
    "dataatt "
   ]
  },
  {
   "cell_type": "code",
   "execution_count": null,
   "id": "6aa4d78b",
   "metadata": {},
   "outputs": [],
   "source": [
    "\n",
    "# 假设dataatt是你的DataFrame，并且已经加载\n",
    "# 首先删除失业率列中的缺失值\n",
    "data_clean = dataatt.dropna(subset=['Unemployment, total (% of total labor force) (modeled ILO estimate) [SL.UEM.TOTL.ZS)'))\n",
    "\n",
    "# 计算每年的平均失业率\n",
    "yearly_average = data_clean.groupby('Year')['Unemployment, total (% of total labor force) (modeled ILO estimate) [SL.UEM.TOTL.ZS)').select(mean('column')).collect()[0)[0)\n",
    "\n",
    "# 绘制折线图\n",
    "plt.figure(figsize=(12, 6))  # 调整图形大小\n",
    "plt.plot(yearly_average.index, yearly_average.values, marker='o', linestyle='-', color='b')\n",
    "\n",
    "# 添加标题和轴标签\n",
    "plt.title('Average Unemployment Rate Over Years')\n",
    "plt.xlabel('Year')\n",
    "plt.ylabel('Average Unemployment Rate (%)')\n",
    "\n",
    "# 显示网格\n",
    "plt.grid(True)\n",
    "plt.savefig(\"/Users/zhoudaozhen/Desktop/722/iteration3/Figures/7.png\", format='png')\n",
    "# 显示图表\n",
    "plt.show()"
   ]
  },
  {
   "cell_type": "code",
   "execution_count": null,
   "id": "e612559c",
   "metadata": {},
   "outputs": [],
   "source": [
    "data_clean = dataatt.dropna(subset=['Political Stability and Absence of Violence/Terrorism: Estimate [PV.EST)'))\n",
    "\n",
    "# 计算每年的平均政治稳定性评估\n",
    "yearly_average = data_clean.groupby('Year')['Political Stability and Absence of Violence/Terrorism: Estimate [PV.EST)').select(mean('column')).collect()[0)[0)\n",
    "\n",
    "# 绘制折线图\n",
    "plt.figure(figsize=(12, 6))  # 调整图形大小\n",
    "plt.plot(yearly_average.index, yearly_average.values, marker='o', linestyle='-', color='b', label='Average Political Stability')\n",
    "\n",
    "# 填充折线图上方的颜色\n",
    "#plt.fill_between(yearly_average.index, yearly_average.values, color='blue', alpha=0.1)\n",
    "\n",
    "# 添加标题和轴标签\n",
    "plt.title('Average Political Stability and Absence of Violence/Terrorism Estimate Over Years')\n",
    "plt.xlabel('Year')\n",
    "plt.ylabel('Average Estimate')\n",
    "\n",
    "# 显示图例\n",
    "plt.legend()\n",
    "\n",
    "# 显示网格\n",
    "plt.grid(True)\n",
    "plt.savefig(\"/Users/zhoudaozhen/Desktop/722/iteration3/Figures/8.png\", format='png')\n",
    "# 显示图表\n",
    "plt.show()\n"
   ]
  },
  {
   "cell_type": "code",
   "execution_count": null,
   "id": "60c1395a",
   "metadata": {},
   "outputs": [],
   "source": [
    "data_clean = dataatt.dropna(subset=['Control of Corruption: Estimate [CC.EST)'))\n",
    "\n",
    "# 计算每年的平均“控制腐败评估”\n",
    "yearly_average = data_clean.groupby('Year')['Control of Corruption: Estimate [CC.EST)').select(mean('column')).collect()[0)[0)\n",
    "\n",
    "# 绘制折线图\n",
    "plt.figure(figsize=(12, 6))  # 调整图形大小\n",
    "plt.plot(yearly_average.index, yearly_average.values, marker='o', linestyle='-', color='green', label='Average Control of Corruption')\n",
    "\n",
    "\n",
    "# 添加标题和轴标签\n",
    "plt.title('Average Control of Corruption Estimate Over Years')\n",
    "plt.xlabel('Year')\n",
    "plt.ylabel('Average Estimate')\n",
    "\n",
    "# 显示图例\n",
    "plt.legend()\n",
    "\n",
    "# 显示网格\n",
    "plt.grid(True)\n",
    "plt.savefig(\"/Users/zhoudaozhen/Desktop/722/iteration3/Figures/9.png\", format='png')\n",
    "# 显示图表\n",
    "plt.show()"
   ]
  },
  {
   "cell_type": "code",
   "execution_count": null,
   "id": "3a3163d1",
   "metadata": {},
   "outputs": [],
   "source": [
    "data_clean = dataatt.dropna(subset=[\n",
    "    'Merchandise exports (current US$) [TX.VAL.MRCH.CD.WT)',\n",
    "    'Merchandise imports (current US$) [TM.VAL.MRCH.CD.WT)',\n",
    "    'Merchandise trade (% of GDP) [TG.VAL.TOTL.GD.ZS)'\n",
    "))\n",
    "\n",
    "# 计算每年的平均值\n",
    "yearly_average_exports = data_clean.groupby('Country')['Merchandise exports (current US$) [TX.VAL.MRCH.CD.WT)').select(mean('column')).collect()[0)[0)\n",
    "yearly_average_imports = data_clean.groupby('Country')['Merchandise imports (current US$) [TM.VAL.MRCH.CD.WT)').select(mean('column')).collect()[0)[0)\n",
    "yearly_average_trade = data_clean.groupby('Country')['Merchandise trade (% of GDP) [TG.VAL.TOTL.GD.ZS)').select(mean('column')).collect()[0)[0)\n",
    "\n",
    "# 绘制折线图\n",
    "plt.figure(figsize=(14, 8))  # 调整图形大小\n",
    "plt.plot(yearly_average_exports.index, yearly_average_exports.values,  linestyle='-', color='blue', label='Merchandise Exports (US$)')\n",
    "plt.plot(yearly_average_imports.index, yearly_average_imports.values,  linestyle='-', color='red', label='Merchandise Imports (US$)')\n",
    "plt.plot(yearly_average_trade.index, yearly_average_trade.values,  linestyle='-', color='green', label='Merchandise Trade (% of GDP)')\n",
    "\n",
    "# 添加标题和轴标签\n",
    "plt.title('Merchandise Trade Metrics Over Years')\n",
    "plt.xlabel('Country')\n",
    "plt.ylabel('Values')\n",
    "plt.xticks(fontsize=4, rotation=90)\n",
    "# 显示图例\n",
    "plt.legend()\n",
    "\n",
    "# 显示网格\n",
    "plt.grid(True)\n",
    "plt.savefig(\"/Users/zhoudaozhen/Desktop/722/iteration3/Figures/10.png\", format='png')\n",
    "# 显示图表\n",
    "plt.show()"
   ]
  },
  {
   "cell_type": "code",
   "execution_count": null,
   "id": "657e306d",
   "metadata": {},
   "outputs": [],
   "source": [
    "combined_data"
   ]
  },
  {
   "cell_type": "code",
   "execution_count": null,
   "id": "eea3e039",
   "metadata": {},
   "outputs": [],
   "source": [
    "data_clean = combined_data.dropna(subset=['Happiness Score'))\n",
    "\n",
    "# 计算每年的平均Happiness Score\n",
    "yearly_average_happiness = data_clean.groupby('Year')['Happiness Score').select(mean('column')).collect()[0)[0)\n",
    "\n",
    "# 绘制折线图\n",
    "plt.figure(figsize=(12, 6))  # 调整图形大小\n",
    "plt.plot(yearly_average_happiness.index, yearly_average_happiness.values, marker='o', linestyle='-', color='teal')\n",
    "\n",
    "# 添加标题和轴标签\n",
    "plt.title('Average Happiness Score Over Years')\n",
    "plt.xlabel('Year')\n",
    "plt.ylabel('Average Happiness Score')\n",
    "\n",
    "# 显示网格\n",
    "plt.grid(True)\n",
    "plt.savefig(\"/Users/zhoudaozhen/Desktop/722/iteration3/Figures/11.png\", format='png')\n",
    "# 显示图表\n",
    "plt.show()"
   ]
  },
  {
   "cell_type": "code",
   "execution_count": null,
   "id": "5fd6a88c",
   "metadata": {},
   "outputs": [],
   "source": [
    "data_2015"
   ]
  },
  {
   "cell_type": "code",
   "execution_count": null,
   "id": "65d6ff80",
   "metadata": {},
   "outputs": [],
   "source": [
    "# 清洁数据\n",
    "data_2015_clean = data_2015.dropna(subset=['Economy (GDP per Capita)', 'Happiness Score'))\n",
    "\n",
    "# 绘制二维直方图\n",
    "plt.figure(figsize=(10, 6))\n",
    "plt.hist2d(data_2015_clean['Economy (GDP per Capita)'), data_2015_clean['Happiness Score'), bins=30, cmap='Blues')\n",
    "\n",
    "# 添加颜色条\n",
    "plt.colorbar(label='Count in bin')\n",
    "\n",
    "# 添加标题和轴标签\n",
    "plt.title('2D Histogram of Happiness Score vs. Economy (GDP per Capita)')\n",
    "plt.xlabel('Economy (GDP per Capita)')\n",
    "plt.ylabel('Happiness Score')\n",
    "plt.savefig(\"/Users/zhoudaozhen/Desktop/722/iteration3/Figures/12.png\", format='png')\n",
    "# 显示图表\n",
    "plt.show()"
   ]
  },
  {
   "cell_type": "code",
   "execution_count": null,
   "id": "1dfc6ef0",
   "metadata": {},
   "outputs": [],
   "source": [
    "data_2015_clean = data_2015.dropna(subset=['Freedom', 'Happiness Score'))\n",
    "\n",
    "# 创建散点图\n",
    "plt.figure(figsize=(10, 6))\n",
    "plt.scatter(data_2015_clean['Happiness Score'), data_2015_clean['Freedom'), alpha=0.5, color='lightblue')\n",
    "\n",
    "# 设置背景颜色为黑色\n",
    "plt.gca().set_facecolor('black')\n",
    "\n",
    "# 添加标题和轴标签\n",
    "plt.title('Happiness Score vs. Freedom')\n",
    "plt.xlabel('Happiness Score')\n",
    "plt.ylabel('Freedom')\n",
    "\n",
    "# 设置轴标签和标题的颜色为白色\n",
    "plt.tick_params(colors='white')\n",
    "plt.savefig(\"/Users/zhoudaozhen/Desktop/722/iteration3/Figures/13.png\", format='png')\n",
    "# 显示图表\n",
    "plt.show()"
   ]
  },
  {
   "cell_type": "code",
   "execution_count": null,
   "id": "1ae2066c",
   "metadata": {},
   "outputs": [],
   "source": []
  },
  {
   "cell_type": "code",
   "execution_count": null,
   "id": "b792b04d",
   "metadata": {},
   "outputs": [],
   "source": [
    "#1. 散点图（Scatter Plots）\n",
    "# 设置绘图风格\n",
    "sns.set(style=\"whitegrid\")\n",
    "\n",
    "# 绘制Economy和Happiness Score的关系\n",
    "plt.figure(figsize=(10, 6))\n",
    "sns.scatterplot(x='Economy (GDP per Capita)', y='Happiness Score', data=combined_data)\n",
    "plt.title('Economy vs Happiness Score')\n",
    "plt.show()"
   ]
  },
  {
   "cell_type": "code",
   "execution_count": null,
   "id": "998652ae",
   "metadata": {},
   "outputs": [],
   "source": []
  },
  {
   "cell_type": "code",
   "execution_count": null,
   "id": "86b57ace",
   "metadata": {},
   "outputs": [],
   "source": [
    "axes = pd.plotting.scatter_matrix(combined_data, alpha=0.2, figsize=(12, 12), diagonal='kde', marker='o', grid=True)\n",
    "\n",
    "# 调整子图之间的间隔\n",
    "plt.subplots_adjust(left=0.1, right=0.9, top=0.9, bottom=0.1, wspace=0.4, hspace=0.4)\n",
    "\n",
    "plt.show()"
   ]
  },
  {
   "cell_type": "code",
   "execution_count": null,
   "id": "8dc96407",
   "metadata": {},
   "outputs": [],
   "source": [
    "#2. 相关矩阵（Correlation Matrix）\n",
    "plt.figure(figsize=(10, 8))\n",
    "data1=combined_data.drop(columns=['Country'))\n",
    "correlation_matrix = data1.corr()\n",
    "sns.heatmap(correlation_matrix, annot=True, cmap='coolwarm', linewidths=.5)\n",
    "plt.title('Correlation Matrix of Variables')\n",
    "plt.show()\n"
   ]
  },
  {
   "cell_type": "code",
   "execution_count": null,
   "id": "23cb126b",
   "metadata": {},
   "outputs": [],
   "source": [
    "#4. 箱形图（Box Plots）\n",
    "# 绘制各变量的箱形图，比较不同因素\n",
    "plt.figure(figsize=(12, 8))\n",
    "sns.boxplot(data=combined_data[['Freedom', 'Generosity', 'Trust (Government Corruption)')))\n",
    "plt.title('Box Plot of Various Factors')\n",
    "plt.show()\n"
   ]
  },
  {
   "cell_type": "code",
   "execution_count": null,
   "id": "8b55e041",
   "metadata": {},
   "outputs": [],
   "source": [
    "#先讲属性数据由于缺失数据表示成。。而全是字符串格式"
   ]
  },
  {
   "cell_type": "code",
   "execution_count": null,
   "id": "5a48ac60",
   "metadata": {},
   "outputs": [],
   "source": [
    "data_attribute.columns = [col.split(' (')[0) for col in data_attribute.columns)\n",
    "\n",
    "# 计算每列的缺失值数量\n",
    "missing_values = data_attribute.isnull().sum()\n",
    "\n",
    "# 循环遍历每列的缺失值数量并打印\n",
    "for column, missing_count in missing_values.items():\n",
    "    print(f\"{column}: {missing_count} \")\n",
    "\n"
   ]
  },
  {
   "cell_type": "code",
   "execution_count": null,
   "id": "74d87391",
   "metadata": {},
   "outputs": [],
   "source": [
    "# 计算每列的缺失值数量\n",
    "missing_values = combined_data.isnull().sum()\n",
    "\n",
    "# 循环遍历每列的缺失值数量并打印\n",
    "for column, missing_count in missing_values.items():\n",
    "    print(f\"{column}: {missing_count} \")\n"
   ]
  },
  {
   "cell_type": "code",
   "execution_count": null,
   "id": "db4b4ac3",
   "metadata": {},
   "outputs": [],
   "source": [
    "print(data_attribute.dtypes)"
   ]
  },
  {
   "cell_type": "code",
   "execution_count": null,
   "id": "bf9bab9d",
   "metadata": {},
   "outputs": [],
   "source": [
    "duplicates = data_attribute[data_attribute.duplicated())\n",
    "print(\"Number of duplicate entries:\", duplicates.shape[0))"
   ]
  },
  {
   "cell_type": "code",
   "execution_count": null,
   "id": "c5cfd0c7",
   "metadata": {},
   "outputs": [],
   "source": [
    "duplicates = combined_data[combined_data.duplicated())\n",
    "print(\"Number of duplicate entries:\", duplicates.shape[0))"
   ]
  },
  {
   "cell_type": "code",
   "execution_count": null,
   "id": "e587b3a1",
   "metadata": {},
   "outputs": [],
   "source": [
    "# 计算每列的缺失值比例\n",
    "missing_ratio = data_attribute.isnull().select(mean('column')).collect()[0)[0) * 100\n",
    "\n",
    "# 对缺失率进行排序，从高到低\n",
    "missing_ratio_sorted = missing_ratio.sort_values(ascending=False)\n",
    "\n",
    "# 打印每列的缺失率，按从高到低排序\n",
    "for column, missing_count in missing_ratio_sorted.items():\n",
    "    print(f\"{column}: {missing_count} \")"
   ]
  },
  {
   "cell_type": "code",
   "execution_count": null,
   "id": "7d0b249c",
   "metadata": {},
   "outputs": [],
   "source": [
    "# 计算每列的缺失值比例\n",
    "missing_ratio2 = combined_data.isnull().select(mean('column')).collect()[0)[0) * 100\n",
    "\n",
    "# 对缺失率进行排序，从高到低\n",
    "missing_ratio_sorted2 = missing_ratio2.sort_values(ascending=False)\n",
    "\n",
    "# 打印每列的缺失率，按从高到低排序\n",
    "for column, missing_count in missing_ratio_sorted2.items():\n",
    "    print(f\"{column}: {missing_count} \")"
   ]
  },
  {
   "cell_type": "code",
   "execution_count": null,
   "id": "53831d1e",
   "metadata": {},
   "outputs": [],
   "source": [
    "# 定义阈值\n",
    "threshold = 30\n",
    "\n",
    "# 找出缺失率高于40%的列\n",
    "columns_to_drop = missing_ratio[missing_ratio > threshold).index\n",
    "\n",
    "# 删除这些列\n",
    "data_attribute.drop(columns=columns_to_drop, inplace=True)\n",
    "\n",
    "\n"
   ]
  },
  {
   "cell_type": "code",
   "execution_count": null,
   "id": "6b9bf8ff",
   "metadata": {},
   "outputs": [],
   "source": [
    "# 计算每列的缺失值比例\n",
    "missing_ratio = data_attribute.isnull().select(mean('column')).collect()[0)[0) * 100\n",
    "\n",
    "# 对缺失率进行排序，从高到低\n",
    "missing_ratio_sorted = missing_ratio.sort_values(ascending=False)\n",
    "\n",
    "# 打印每列的缺失率，按从高到低排序\n",
    "for column, missing_count in missing_ratio_sorted.items():\n",
    "    print(f\"{column}: {missing_count} \")"
   ]
  },
  {
   "cell_type": "code",
   "execution_count": null,
   "id": "8acf8095",
   "metadata": {},
   "outputs": [],
   "source": [
    "duplicates = data_attribute[data_attribute.duplicated())\n",
    "print(\"Number of duplicate entries:\", duplicates.shape[0))"
   ]
  },
  {
   "cell_type": "code",
   "execution_count": null,
   "id": "949bde1b",
   "metadata": {},
   "outputs": [],
   "source": [
    "data_attribute = data_attribute.drop_duplicates()\n",
    "duplicates = data_attribute[data_attribute.duplicated())\n",
    "print(\"Number of duplicate entries:\", duplicates.shape[0))"
   ]
  },
  {
   "cell_type": "code",
   "execution_count": null,
   "id": "28191a90",
   "metadata": {},
   "outputs": [],
   "source": [
    "data_2015"
   ]
  },
  {
   "cell_type": "code",
   "execution_count": null,
   "id": "3767f5b7",
   "metadata": {},
   "outputs": [],
   "source": [
    "data_2015_clean = data_2020.dropna(subset=['Trust (Government Corruption)'))\n",
    "\n",
    "# 绘制箱型图\n",
    "plt.figure(figsize=(12, 7))\n",
    "data_2015_clean.boxplot(column='Trust (Government Corruption)', by='Region', grid=False)\n",
    "\n",
    "# 添加图表标题和轴标签\n",
    "plt.title('Trust (Government Corruption) by Region')\n",
    "plt.suptitle('')  # 去除默认的副标题\n",
    "plt.xlabel('Region')\n",
    "plt.ylabel('Trust (Government Corruption)')\n",
    "\n",
    "# 优化x轴标签的显示\n",
    "plt.xticks(rotation=90, ha='right')\n",
    "plt.savefig(\"/Users/zhoudaozhen/Desktop/722/iteration3/Figures/21.png\", format='png')\n",
    "# 显示图表\n",
    "plt.show()"
   ]
  },
  {
   "cell_type": "code",
   "execution_count": null,
   "id": "c787f179",
   "metadata": {},
   "outputs": [],
   "source": [
    "# 清除包含缺失值的行\n",
    "data_clean = dataatt.dropna(subset=['Unemployment with advanced education (% of total labor force with advanced education) [SL.UEM.ADVN.ZS)'))\n",
    "\n",
    "# 绘制二维直方图\n",
    "plt.figure(figsize=(10, 5))\n",
    "plt.hist(data_clean['Unemployment with advanced education (% of total labor force with advanced education) [SL.UEM.ADVN.ZS)'), bins=50, color='navy')\n",
    "\n",
    "# 添加标题和轴标签\n",
    "plt.title('Unemployment rate after higher education')\n",
    "plt.xlabel('Unemployment with advanced education (% of total labor force with advanced education) [SL.UEM.ADVN.ZS)')\n",
    "plt.ylabel('Frequency')\n",
    "\n",
    "# 设置图形背景颜色为白色\n",
    "plt.gca().set_facecolor('white')\n",
    "\n",
    "# 显示网格\n",
    "plt.grid(True)\n",
    "plt.savefig(\"/Users/zhoudaozhen/Desktop/722/iteration3/Figures/22.png\", format='png')\n",
    "# 显示图表\n",
    "plt.show()"
   ]
  },
  {
   "cell_type": "code",
   "execution_count": null,
   "id": "2562b363",
   "metadata": {},
   "outputs": [],
   "source": [
    "# 选择数据类型为数值的列\n",
    "numeric_cols = data_attribute.select_dtypes(include=['int64', 'float64'))\n",
    "# 设定每行显示的图形数\n",
    "n_cols = 3\n",
    "n_rows = (len(numeric_cols.columns) + n_cols - 1) // n_cols  # 确保有足够的行来展示所有图形\n",
    "\n",
    "# 创建一个足够大的画布来容纳所有的直方图\n",
    "plt.figure(figsize=(n_cols * 5, n_rows * 4))  # 宽度为5*n_cols, 高度为4*n_rows\n",
    "\n",
    "for i, column in enumerate(numeric_cols.columns, 1):\n",
    "    plt.subplot(n_rows, n_cols, i)\n",
    "    sns.histplot(data_attribute[column), kde=True, color='skyblue')\n",
    "    plt.title(f'Distribution of {column}')\n",
    "    plt.xlabel('')\n",
    "    plt.ylabel('')\n",
    "\n",
    "plt.tight_layout()\n",
    "plt.show()"
   ]
  },
  {
   "cell_type": "code",
   "execution_count": null,
   "id": "67826816",
   "metadata": {},
   "outputs": [],
   "source": [
    "#combined_data = pd.concat([data_2013, data_2015, data_2016, data_2017, data_2018, \n",
    "                           data_2019, data_2020, data_2021, data_2022, data_2023), \n",
    "                          axis=0, ignore_index=True)\n",
    "\n",
    "print(\"Shape of the 2013 year dataset:\", data_2013.shape)\n",
    "print(\"Shape of the combined dataset:\", combined_data.shape)"
   ]
  },
  {
   "cell_type": "code",
   "execution_count": null,
   "id": "fdcf5930",
   "metadata": {},
   "outputs": [],
   "source": []
  },
  {
   "cell_type": "code",
   "execution_count": null,
   "id": "da1f118a",
   "metadata": {},
   "outputs": [],
   "source": [
    "data_attribute.replace('..', np.nan, inplace=True)\n",
    "\n",
    "combined_data['Country') = combined_data['Country').str.replace('*', '', regex=False)\n",
    "\n",
    "#问题二： 将列名'Time'改为'Year'，两个数据集不同意\n",
    "data_attribute.rename(columns={'Time': 'Year'}, inplace=True)\n",
    " "
   ]
  },
  {
   "cell_type": "code",
   "execution_count": null,
   "id": "224ec445",
   "metadata": {},
   "outputs": [],
   "source": [
    "numeric_df = data_attribute.select_dtypes(include=['int64', 'float64'))\n",
    "imputer = IterativeImputer(max_iter=10, random_state=0)\n",
    "numeric_df_filled = spark.createDataFrame(imputer.fit_transform(numeric_df), columns=numeric_df.columns)\n",
    "\n",
    "data_attribute.update(numeric_df_filled)\n",
    "\n",
    "data_attribute\n",
    "\n"
   ]
  },
  {
   "cell_type": "code",
   "execution_count": null,
   "id": "a20a3ce0",
   "metadata": {},
   "outputs": [],
   "source": [
    "#from sklearn.experimental import enable_iterative_imputer\n",
    "#from sklearn.impute import KNNImputer, IterativeImputer\n",
    "\n",
    "#numeric_df = data_attribute.select_dtypes(include=['int64', 'float64'))\n",
    "\n",
    "# 创建KNN填充器实例\n",
    "#knn_imputer = KNNImputer(n_neighbors=5)\n",
    "\n",
    "# 应用填充器\n",
    "#numeric_df_filled_knn = spark.createDataFrame(knn_imputer.fit_transform(numeric_df), columns=numeric_df.columns)\n",
    "\n",
    "# 检查填充后的结果\n",
    "#print(numeric_df_filled_knn)\n",
    "\n",
    "# 合并填充后的数值数据与原始非数值数据\n",
    "#data_attribute.update(numeric_df_filled_knn)\n",
    "\n",
    "# 查看完整的DataFrame结果\n",
    "#print(data_attribute)"
   ]
  },
  {
   "cell_type": "code",
   "execution_count": null,
   "id": "79a0f2e6",
   "metadata": {},
   "outputs": [],
   "source": [
    "country_name_mapping = {\n",
    "    'Congo (Brazzaville)': 'Congo, Rep.',\n",
    "    'Czech Republic': 'Czechia',\n",
    "    'Egypt': 'Egypt, Arab Rep.',\n",
    "    'Gambia': 'Gambia, The',\n",
    "    'Hong Kong S.A.R. of China': 'Hong Kong SAR, China',\n",
    "    'Iran': 'Iran, Islamic Rep.',\n",
    "    'Kyrgyzstan': 'Kyrgyz Republic',\n",
    "    'Laos': 'Lao PDR',\n",
    "  #  'North Cyprus': '\n",
    "   # 'Palestinian Territories': '\n",
    "    'Russia': 'Russian Federation',\n",
    "    'Slovakia': 'Slovak Republic',\n",
    "    'South Korea': 'Korea, Rep.',\n",
    "    #'Swaziland': '\n",
    "    #'Taiwan Province of China': '\n",
    "    'Turkey': 'Turkiye',\n",
    "    'Venezuela': 'Venezuela, RB',\n",
    "    'Vietnam': 'Viet Nam',\n",
    "    'Yemen': 'Yemen, Rep.',\n",
    "    'Zimbabwe': 'Zimbabwe'\n",
    "\n",
    "}"
   ]
  },
  {
   "cell_type": "code",
   "execution_count": null,
   "id": "6567035c",
   "metadata": {},
   "outputs": [],
   "source": [
    "data_attribute['Country') = data_attribute['Country').map(country_name_mapping).na.fill(data_attribute['Country'))\n",
    "combined_data['Country') = combined_data['Country').map(country_name_mapping).na.fill(combined_data['Country'))\n"
   ]
  },
  {
   "cell_type": "code",
   "execution_count": null,
   "id": "b423c69f",
   "metadata": {},
   "outputs": [],
   "source": [
    "# 筛选数值型数据\n",
    "numeric_data = data_attribute.select_dtypes(include=['float64', 'int64'))\n",
    "\n",
    "# 绘图设置\n",
    "num_columns = numeric_data.shape[1)\n",
    "num_rows = (num_columns + 3) // 4  # 计算需要的行数\n",
    "plt.figure(figsize=(16, 4 * num_rows))  # 设置画布大小\n",
    "\n",
    "# 绘制箱型图\n",
    "for i, column in enumerate(numeric_data.columns, 1):\n",
    "    plt.subplot(num_rows, 4, i)\n",
    "    sns.boxplot(y=numeric_data[column))\n",
    "    plt.title(column)\n",
    "\n",
    "plt.tight_layout()\n",
    "plt.savefig(\"/Users/zhoudaozhen/Desktop/722/iteration3/Figures/20.png\", format='png')\n",
    "plt.show()"
   ]
  },
  {
   "cell_type": "code",
   "execution_count": null,
   "id": "8c07b6cc",
   "metadata": {},
   "outputs": [],
   "source": [
    "#data5在后面定义的\n",
    "numeric_data =data_attribute.select_dtypes(include=['float64', 'int64'))\n",
    "def outliers_iqr(data):\n",
    "    Q1 = data.quantile(0.05)\n",
    "    Q3 = data.quantile(0.95)\n",
    "    IQR = Q3 - Q1\n",
    "    outliers_mask = (data < (Q1 - 1.5 * IQR)) | (data > (Q3 + 1.5 * IQR))\n",
    "    return outliers_mask\n",
    "\n",
    "print(\"\\nOutliers detected by IQR Method:\")\n",
    "for column in numeric_data.columns:\n",
    "    mask = outliers_iqr(numeric_data[column))\n",
    "    print(f\"{column} ： {mask.sum()} \")"
   ]
  },
  {
   "cell_type": "code",
   "execution_count": null,
   "id": "d2b094e7",
   "metadata": {},
   "outputs": [],
   "source": [
    "def replace_with_nearest(data, mask):\n",
    "    \n",
    "    normal_values = data[~mask)  # 非异常值\n",
    "    for idx in data[mask).index:\n",
    "        closest_idx = np.abs(normal_values - data.loc[idx)).idxmin()\n",
    "        closest_value = data.loc[closest_idx)\n",
    "        data.at[idx) = closest_value\n",
    "    return data\n",
    "\n",
    "\n",
    "\n",
    "numeric_data = data_attribute.select_dtypes(include=['float64', 'int64'))\n",
    "\n",
    "\n",
    "def outliers_iqr(data):\n",
    "    Q1 = data.quantile(0.05)\n",
    "    Q3 = data.quantile(0.95)\n",
    "    IQR = Q3 - Q1\n",
    "    outliers_mask = (data < (Q1 - 1.5 * IQR)) | (data > (Q3 + 1.5 * IQR))\n",
    "    return outliers_mask\n",
    "\n",
    "\n",
    "for column in numeric_data.columns:\n",
    "    mask = outliers_iqr(numeric_data[column))\n",
    "    numeric_data[column) = replace_with_nearest(numeric_data[column), mask)\n",
    "\n",
    "print(\"\\nAfter processing outliers:\")\n",
    "print(numeric_data)\n",
    "data5.update(numeric_data)\n"
   ]
  },
  {
   "cell_type": "code",
   "execution_count": null,
   "id": "9290b239",
   "metadata": {},
   "outputs": [],
   "source": []
  },
  {
   "cell_type": "code",
   "execution_count": null,
   "id": "c3081681",
   "metadata": {},
   "outputs": [],
   "source": []
  },
  {
   "cell_type": "code",
   "execution_count": null,
   "id": "b061bc1e",
   "metadata": {},
   "outputs": [],
   "source": []
  },
  {
   "cell_type": "code",
   "execution_count": null,
   "id": "95300fb1",
   "metadata": {},
   "outputs": [],
   "source": [
    "data_2013['Year') = 2013\n",
    "data_2015['Year') = 2015\n",
    "data_2016['Year') = 2016\n",
    "data_2017['Year') = 2017\n",
    "data_2018['Year') = 2018\n",
    "data_2019['Year') = 2019\n",
    "data_2020['Year') = 2020\n",
    "data_2021['Year') = 2021\n",
    "data_2022['Year') = 2022\n",
    "data_2023['Year') = 2023"
   ]
  },
  {
   "cell_type": "code",
   "execution_count": null,
   "id": "9f6a022b",
   "metadata": {},
   "outputs": [],
   "source": []
  },
  {
   "cell_type": "code",
   "execution_count": null,
   "id": "63952855",
   "metadata": {},
   "outputs": [],
   "source": [
    "data_attribute['COVID_Impact') = data_attribute['Year').apply(lambda x: 1 if x in [2019,2020, 2021) else 0)\n",
    "data_attribute"
   ]
  },
  {
   "cell_type": "code",
   "execution_count": null,
   "id": "5c88fa75",
   "metadata": {},
   "outputs": [],
   "source": [
    "plt.figure(figsize=(10, 6))\n",
    "plt.hist(data_attribute['COVID_Impact'), bins=[-0.5, 0.5, 1.5), color='blue', edgecolor='black')\n",
    "plt.title('Histogram of COVID Impact')\n",
    "plt.xlabel('COVID Impact Score')\n",
    "plt.ylabel('Frequency')\n",
    "plt.savefig(\"/Users/zhoudaozhen/Desktop/722/iteration3/Figures/32.png\", format='png')\n",
    "plt.show()"
   ]
  },
  {
   "cell_type": "code",
   "execution_count": null,
   "id": "d06d801b",
   "metadata": {},
   "outputs": [],
   "source": []
  },
  {
   "cell_type": "code",
   "execution_count": null,
   "id": "cebc96aa",
   "metadata": {},
   "outputs": [],
   "source": [
    "# 根据Year和Country列合并两个数据集\n",
    "# 这里使用left join，意味着以combined_data的行为基准\n",
    "data3 = pd.merge(combined_data, data_attribute, on=['Year', 'Country'), how='left')\n",
    "\n",
    "data3"
   ]
  },
  {
   "cell_type": "code",
   "execution_count": null,
   "id": "550d9a0c",
   "metadata": {},
   "outputs": [],
   "source": [
    "#data3['Happiness Ranking') = data3['Happiness Ranking').astype(int)"
   ]
  },
  {
   "cell_type": "code",
   "execution_count": null,
   "id": "364e11f5",
   "metadata": {},
   "outputs": [],
   "source": [
    "# 计算每列的缺失值数量\n",
    "missing_values = data3.isnull().sum()\n",
    "\n",
    "# 循环遍历每列的缺失值数量并打印\n",
    "for column, missing_count in missing_values.items():\n",
    "    print(f\"{column}: {missing_count} \")\n"
   ]
  },
  {
   "cell_type": "code",
   "execution_count": null,
   "id": "55c8febb",
   "metadata": {},
   "outputs": [],
   "source": [
    "#data3[data3.isnull().any(axis=1))\n",
    "missing_count = data3.isnull().sum(axis=1)\n",
    "#data3 = data3[missing_count <= 3)\n",
    "data3[data3.isnull().any(axis=1))\n",
    "numeric_data = data3.select_dtypes(include=[np.number))\n",
    "imputer = IterativeImputer(max_iter=10, random_state=0)\n",
    "numeric_data_imputed = spark.createDataFrame(imputer.fit_transform(numeric_data), columns=numeric_data.columns)\n",
    "data3.update(numeric_data_imputed)\n",
    "\n"
   ]
  },
  {
   "cell_type": "code",
   "execution_count": null,
   "id": "1849e913",
   "metadata": {},
   "outputs": [],
   "source": [
    "data3"
   ]
  },
  {
   "cell_type": "code",
   "execution_count": null,
   "id": "9f0676ee",
   "metadata": {},
   "outputs": [],
   "source": [
    "#2. 相关矩阵（Correlation Matrix）\n",
    "plt.figure(figsize=(10, 8))\n",
    "data1=combined_data.drop(columns=['Country'))\n",
    "correlation_matrix = data1.corr()\n",
    "sns.heatmap(correlation_matrix, annot=True, cmap='coolwarm', linewidths=.5)\n",
    "plt.title('Correlation Matrix of Variables')\n",
    "plt.show()\n"
   ]
  },
  {
   "cell_type": "code",
   "execution_count": null,
   "id": "f3772692",
   "metadata": {},
   "outputs": [],
   "source": [
    "# 选择数值型数据\n",
    "numeric_data = data3.select_dtypes(include=[np.number))  # 包括int和float\n",
    "\n",
    "# 计算相关系数矩阵\n",
    "correlation_matrix = numeric_data.corr()\n",
    "\n",
    "# 绘制热图\n",
    "plt.figure(figsize=(12, 10))\n",
    "sns.heatmap(correlation_matrix, annot=False, fmt=\".2f\", cmap='coolwarm')\n",
    "plt.title(\"Correlation Matrix of Numeric Features\")\n",
    "plt.savefig(\"/Users/zhoudaozhen/Desktop/722/iteration3/Figures/39.png\", format='png')\n",
    "plt.show()"
   ]
  },
  {
   "cell_type": "code",
   "execution_count": null,
   "id": "8cd9e5e3",
   "metadata": {},
   "outputs": [],
   "source": [
    "from sklearn.feature_selection import SelectKBest, f_regression\n",
    "data4=data3\n",
    "data3.drop('Happiness Rank', axis=1, inplace=True)\n",
    "numeric_data = data3.select_dtypes(include=[np.number))  # 包括int和float\n",
    "# 假设data3是你的DataFrame，'Happiness Score'是目标变量\n",
    "X = numeric_data.drop('Happiness Score', axis=1)  # 删除目标变量列\n",
    "y = data3['Happiness Score')\n",
    "\n",
    "# 选择最佳的K个特征\n",
    "selector = SelectKBest(score_func=f_regression, k=15)  # 选择10个最重要的特征\n",
    "X_new = selector.fit_transform(X, y)\n",
    "\n",
    "# 查看所选特征\n",
    "selected_features = spark.createDataFrame(selector.inverse_transform(X_new), \n",
    "                                 index=data3.index, \n",
    "                                 columns=X.columns)\n",
    "selected_columns = selected_features.columns[selector.get_support())\n",
    "print(\"Selected features based on f_regression:\", selected_columns)\n"
   ]
  },
  {
   "cell_type": "code",
   "execution_count": null,
   "id": "7dc866f0",
   "metadata": {},
   "outputs": [],
   "source": [
    "from sklearn.ensemble import RandomForestRegressor\n",
    "\n",
    "model = RandomForestRegressor()\n",
    "model.fit(X, y)\n",
    "\n",
    "feature_importances = pd.Series(model.feature_importances_, index=X.columns)\n",
    "selected_features = feature_importances.nlargest(25) \n",
    "print(\"Most important features based on RandomForest:\\n\", selected_features)\n"
   ]
  },
  {
   "cell_type": "code",
   "execution_count": null,
   "id": "43cb2517",
   "metadata": {},
   "outputs": [],
   "source": [
    "selected_features = feature_importances.nlargest(20)\n",
    "X = X[selected_features.index)\n",
    "non_numeric_data = data3.select_dtypes(exclude=[np.number))\n",
    "data5 = pd.concat([X, y, non_numeric_data), axis=1)"
   ]
  },
  {
   "cell_type": "code",
   "execution_count": null,
   "id": "d5a48cc3",
   "metadata": {},
   "outputs": [],
   "source": [
    "data5"
   ]
  },
  {
   "cell_type": "code",
   "execution_count": null,
   "id": "2b8a4f82",
   "metadata": {},
   "outputs": [],
   "source": [
    "# Define a dictionary with old column names as keys and new column names as values\n",
    "new_column_names = {\n",
    "    'Fixed broadband subscriptions': 'Fixed_Broadband',\n",
    "    'Fixed telephone subscriptions': 'Fixed_Telephone',\n",
    "    'Economy (GDP per Capita)': 'GDP_per_Capita',\n",
    "    'Employment to population ratio, ages 15-24, total': 'Youth_Emp_Ratio',\n",
    "    'Health (Life Expectancy)': 'Health_Life_Exp',\n",
    "    'Adjusted savings: carbon dioxide damage': 'CO2_Damage',\n",
    "    'Freedom': 'Freedom',\n",
    "    'Individuals using the Internet': 'Internet_Users',\n",
    "    'Life expectancy at birth, total': 'Life_Expectancy',\n",
    "    'Labor force, female': 'Female_Labor_Force',\n",
    "    'Trust (Government Corruption)': 'Gov_Trust',\n",
    "    'Mortality rate, neonatal': 'Neonatal_Mortality',\n",
    "    'Access to electricity': 'Electricity_Access',\n",
    "    'Agriculture, forestry, and fishing, value added': 'Agri_Value_Added',\n",
    "    'Computer, communications and other services': 'Tech_Services',\n",
    "    'Merchandise exports': 'Merch_Exports',\n",
    "    'GDP': 'GDP_Total',\n",
    "    'Insurance and financial services': 'Insur_Fin_Services',\n",
    "    'Adolescent fertility rate': 'Adol_Fertility',\n",
    "    'Labor force, total [SL.TLF.TOTL.IN)': 'Total_Labor_Force',\n",
    "    'Happiness Score': 'Happiness Score',\n",
    "    'Country': 'Country',\n",
    "    'Year': 'Year',\n",
    "    'Time Code': 'Time_Code',\n",
    "    'Country Code': 'Country_Code'\n",
    "}\n",
    "\n",
    "data5.rename(columns=new_column_names, inplace=True)\n",
    "data5"
   ]
  },
  {
   "cell_type": "code",
   "execution_count": null,
   "id": "393ddfb8",
   "metadata": {},
   "outputs": [],
   "source": [
    "from sklearn.preprocessing import PowerTransformer\n",
    "from sklearn.preprocessing import StandardScaler\n",
    "from sklearn.cluster import KMeans\n",
    "from sklearn.metrics import silhouette_score\n",
    "from sklearn.neighbors import NearestNeighbors\n",
    "numeric_data = data5.select_dtypes(include=[np.number))  # 包括int和float\n",
    "pt = PowerTransformer(method='yeo-johnson')\n",
    "data_transformed = pt.fit_transform(numeric_data.values.reshape(-1, 1))\n"
   ]
  },
  {
   "cell_type": "code",
   "execution_count": null,
   "id": "55232b74",
   "metadata": {},
   "outputs": [],
   "source": [
    "#stander\n",
    "scaler = StandardScaler()\n",
    "data_transformed= scaler.fit_transform(data_transformed)\n",
    "data5.update(data_transformed)"
   ]
  },
  {
   "cell_type": "code",
   "execution_count": null,
   "id": "145f230e",
   "metadata": {},
   "outputs": [],
   "source": [
    "data5_new = data5.drop(['GDP_per_Capita', 'Health_Life_Exp', 'GDP_Total'), axis=1)\n",
    "#, 'Total_Labor_Force', 'Agri_Value_Added'\n",
    "\n",
    "# 选择数据类型为数值的列\n",
    "numeric_cols = data5_new.select_dtypes(include=['int64', 'float64'))\n",
    "# 设定每行显示的图形数\n",
    "n_cols = 4\n",
    "n_rows = (len(numeric_cols.columns) + n_cols - 1) // n_cols  # 确保有足够的行来展示所有图形\n",
    "\n",
    "# 创建一个足够大的画布来容纳所有的直方图\n",
    "plt.figure(figsize=(n_cols * 5, n_rows * 4))  # 宽度为5*n_cols, 高度为4*n_rows\n",
    "\n",
    "for i, column in enumerate(numeric_cols.columns, 1):\n",
    "    plt.subplot(n_rows, n_cols, i)\n",
    "    sns.histplot(data5_new[column), kde=True, color='skyblue')\n",
    "    plt.title(f'Distribution of {column}')\n",
    "    plt.xlabel('')\n",
    "    plt.ylabel('')\n",
    "\n",
    "plt.tight_layout()\n",
    "plt.savefig(\"/Users/zhoudaozhen/Desktop/722/iteration3/Figures/44.png\", format='png')\n",
    "plt.show()"
   ]
  },
  {
   "cell_type": "code",
   "execution_count": null,
   "id": "4eaddb0e",
   "metadata": {},
   "outputs": [],
   "source": []
  },
  {
   "cell_type": "code",
   "execution_count": null,
   "id": "820f88e0",
   "metadata": {},
   "outputs": [],
   "source": [
    "data5['COVID_Impact') = data5['Year').apply(lambda x: 1 if x in [2020, 2021) else 0)\n",
    "covid_impact_dummies = pd.get_dummies(data5['COVID_Impact'), prefix='COVID_Impact')\n",
    "data5 = pd.concat([data5, covid_impact_dummies), axis=1)\n",
    "data5 = data5.drop('COVID_Impact', axis=1)\n",
    "\n",
    "from sklearn.preprocessing import RobustScaler\n",
    "scaler = RobustScaler()\n",
    "data_transformed = scaler.fit_transform(numeric_data)\n",
    "numeric_data.update(data_transformed)\n",
    "#numeric_data = data5.select_dtypes(include=[np.number)) \n",
    "X = numeric_data.drop('Happiness Score', axis=1)\n",
    "X = pd.concat([X, covid_impact_dummies), axis=1)\n",
    "y = data5['Happiness Score')\n"
   ]
  },
  {
   "cell_type": "code",
   "execution_count": null,
   "id": "99bc9c09",
   "metadata": {},
   "outputs": [],
   "source": [
    "X"
   ]
  },
  {
   "cell_type": "code",
   "execution_count": null,
   "id": "22ef93c3",
   "metadata": {},
   "outputs": [],
   "source": [
    "from sklearn.linear_model import Lasso\n",
    "from sklearn.model_selection import GridSearchCV\n",
    "from sklearn.exceptions import ConvergenceWarning\n",
    "warnings.filterwarnings(\"ignore\", category=ConvergenceWarning)\n",
    "\n",
    "alpha_range = [1e-4, 1e-3, 1e-2, 1e-1, 1, 10, 100, 1000)\n",
    "\n",
    "lasso = Lasso()\n",
    "lasso_cv = GridSearchCV(estimator=lasso, param_grid={'alpha': alpha_range}, scoring='neg_mean_squared_error', cv=5)\n",
    "lasso_cv.fit(X, y)\n",
    "print(f\"Best alpha: {lasso_cv.best_params_['alpha')}\")\n",
    "print(f\"MSE: {lasso_cv.best_score_}\")\n",
    "model = lasso_cv.best_estimator_\n",
    "\n"
   ]
  },
  {
   "cell_type": "code",
   "execution_count": null,
   "id": "0ca36204",
   "metadata": {},
   "outputs": [],
   "source": [
    "from sklearn.cluster import KMeans\n",
    "import matplotlib.pyplot as plt\n",
    "\n",
    "\n",
    "wcss = [)\n",
    "for i in range(1, 11):  # try1 to10 cluster\n",
    "    kmeans = KMeans(n_clusters=i, init='k-means++', max_iter=300, n_init=10, random_state=0)\n",
    "    kmeans.fit(X)\n",
    "    wcss.append(kmeans.inertia_)\n",
    "\n",
    "plt.figure(figsize=(10, 8))\n",
    "plt.plot(range(1, 11), wcss)\n",
    "plt.title('The Elbow Method')\n",
    "plt.xlabel('Number of clusters')\n",
    "plt.ylabel('WCSS')\n",
    "plt.savefig(\"/Users/zhoudaozhen/Desktop/722/iteration3/Figures/46.png\", format='png')\n",
    "plt.show()\n"
   ]
  },
  {
   "cell_type": "code",
   "execution_count": null,
   "id": "8f60ad15",
   "metadata": {},
   "outputs": [],
   "source": [
    "kmeans = KMeans(n_clusters=3, init='k-means++', max_iter=300, n_init=10, random_state=0)"
   ]
  },
  {
   "cell_type": "code",
   "execution_count": null,
   "id": "21890682",
   "metadata": {},
   "outputs": [],
   "source": [
    "from sklearn.linear_model import LinearRegression\n",
    "from sklearn.preprocessing import PolynomialFeatures\n",
    "\n",
    "\n",
    "# 使用PolynomialFeatures仅对训练数据进行转换\n",
    "interaction = PolynomialFeatures(degree=2, interaction_only=True, include_bias=False)\n",
    "features = X_train.columns\n",
    "X_train_interactions = interaction.fit_transform(X_train)\n",
    "interaction_features = interaction.get_feature_names_out(features)\n",
    "X_train_interactions_df = spark.createDataFrame(X_train_interactions, columns=interaction_features)\n",
    "\n",
    "model3 = LinearRegression()\n",
    "\n",
    "\n"
   ]
  },
  {
   "cell_type": "code",
   "execution_count": null,
   "id": "4f968933",
   "metadata": {},
   "outputs": [],
   "source": []
  },
  {
   "cell_type": "code",
   "execution_count": null,
   "id": "51e9a2e7",
   "metadata": {},
   "outputs": [],
   "source": []
  },
  {
   "cell_type": "code",
   "execution_count": null,
   "id": "2705325d",
   "metadata": {},
   "outputs": [],
   "source": [
    "from sklearn.model_selection import train_test_split, cross_val_score, GridSearchCV\n",
    "from sklearn.linear_model import LinearRegression\n",
    "from sklearn.metrics import mean_squared_error, r2_score\n",
    "numeric_data = data5.select_dtypes(include=[np.number)) \n",
    "#X = numeric_data.drop('Happiness Score', axis=1)\n",
    "#y = data5['Happiness Score')\n",
    "\n",
    "X_train, X_test, y_train, y_test = train_test_split(X, y, test_size=0.3, random_state=42)\n",
    "X_test.shape[0)"
   ]
  },
  {
   "cell_type": "code",
   "execution_count": null,
   "id": "229081f9",
   "metadata": {},
   "outputs": [],
   "source": [
    "X_train"
   ]
  },
  {
   "cell_type": "code",
   "execution_count": null,
   "id": "d02c0e27",
   "metadata": {},
   "outputs": [],
   "source": []
  },
  {
   "cell_type": "code",
   "execution_count": null,
   "id": "e34b5081",
   "metadata": {},
   "outputs": [],
   "source": []
  },
  {
   "cell_type": "code",
   "execution_count": null,
   "id": "07d48353",
   "metadata": {},
   "outputs": [],
   "source": [
    "model.fit(X_train, y_train)"
   ]
  },
  {
   "cell_type": "code",
   "execution_count": null,
   "id": "4060ef1d",
   "metadata": {},
   "outputs": [],
   "source": [
    "kmeans.fit(X)"
   ]
  },
  {
   "cell_type": "code",
   "execution_count": null,
   "id": "f1dae8d2",
   "metadata": {},
   "outputs": [],
   "source": [
    "model3.fit(X_train_interactions_df, y_train)"
   ]
  },
  {
   "cell_type": "code",
   "execution_count": null,
   "id": "1080cace",
   "metadata": {},
   "outputs": [],
   "source": []
  },
  {
   "cell_type": "code",
   "execution_count": null,
   "id": "0f1e2d26",
   "metadata": {},
   "outputs": [],
   "source": [
    "import statsmodels.api as sm\n",
    "X1 = sm.add_constant(X)  # 添加截距项\n",
    "# 假设 y 是你的目标变量，X 是包含截距项的特征矩阵\n",
    "model_1 = sm.OLS(y, X1).fit()\n",
    "# 打印出完整的统计摘要\n",
    "model_1.summary()\n"
   ]
  },
  {
   "cell_type": "code",
   "execution_count": null,
   "id": "fbcf8150",
   "metadata": {},
   "outputs": [],
   "source": [
    "# 获取模型系数和截距\n",
    "coefficients = spark.createDataFrame(model.coef_, X.columns, columns=['Coefficients'))\n",
    "intercept = model.intercept_\n",
    "\n",
    "coefficients_sorted = coefficients.sort_values(by='Coefficients', ascending=False)\n",
    "\n",
    "# 打印排序后的系数和截距\n",
    "print(\"Coefficients:\\n\", coefficients_sorted)\n",
    "print(\"Intercept:\", intercept)\n"
   ]
  },
  {
   "cell_type": "code",
   "execution_count": null,
   "id": "deba6069",
   "metadata": {},
   "outputs": [],
   "source": [
    "clusters = kmeans.fit_predict(X)\n",
    "# 将聚类结果添加到未标准化的原始数据集中\n",
    "numeric_data['Cluster') = clusters\n",
    "cluster_means = numeric_data.groupby('Cluster').select(mean('column')).collect()[0)[0)\n",
    "cluster_means.T\n",
    "\n"
   ]
  },
  {
   "cell_type": "code",
   "execution_count": null,
   "id": "d9a7b796",
   "metadata": {},
   "outputs": [],
   "source": [
    "# 重置索引，确保数据对齐\n",
    "X_train_interactions_df = X_train_interactions_df.reset_index(drop=True)\n",
    "y_train = y_train.reset_index(drop=True)\n",
    "\n",
    "# 现在重新添加常数项和拟合模型\n",
    "X_train_interactions_sm = sm.add_constant(X_train_interactions_df)\n",
    "model_sm = sm.OLS(y_train, X_train_interactions_sm).fit()\n",
    "\n",
    "# 创建一个 DataFrame 来存储系数、p 值\n",
    "results_df = spark.createDataFrame({\n",
    "    'Coefficients': model_sm.params,\n",
    "    'P-values': model_sm.pvalues\n",
    "})\n",
    "results_df = results_df.sort_values(by='P-values', ascending=True)\n",
    "# 过滤出包含 \"COVID_Impact\" 的系数\n",
    "covid_impact_df = results_df.filter(results_df.index.str.contains('COVID_Impact'))\n",
    "covid_impact_df\n"
   ]
  },
  {
   "cell_type": "code",
   "execution_count": null,
   "id": "ff7c442d",
   "metadata": {},
   "outputs": [],
   "source": [
    "X_test_interactions = interaction.transform(X_test)\n",
    "X_test_interactions_df = spark.createDataFrame(X_test_interactions, columns=interaction_features)\n",
    "y_pred = model3.predict(X_test_interactions_df)\n",
    "\n",
    "mse = mean_squared_error(y_test, y_pred)\n",
    "r2 = r2_score(y_test, y_pred)\n",
    "\n",
    "print(f'Mean Squared Error: {mse}')\n",
    "print(f'R^2 Score: {r2}')"
   ]
  },
  {
   "cell_type": "code",
   "execution_count": null,
   "id": "e7456440",
   "metadata": {},
   "outputs": [],
   "source": []
  },
  {
   "cell_type": "code",
   "execution_count": null,
   "id": "a3a69af5",
   "metadata": {},
   "outputs": [],
   "source": []
  },
  {
   "cell_type": "code",
   "execution_count": null,
   "id": "ae91422d",
   "metadata": {},
   "outputs": [],
   "source": []
  },
  {
   "cell_type": "code",
   "execution_count": null,
   "id": "ea48a17c",
   "metadata": {},
   "outputs": [],
   "source": []
  },
  {
   "cell_type": "code",
   "execution_count": null,
   "id": "48eee9dd",
   "metadata": {},
   "outputs": [],
   "source": [
    "# 预测值与实际值的对比图\n",
    "y_pred = model.predict(X_test)\n",
    "plt.figure(figsize=(10, 6))\n",
    "plt.scatter(y_test, y_pred, alpha=0.75, color='b')  # 预测值和实际值的散点图\n",
    "plt.xlabel('Actual')\n",
    "plt.ylabel('Predicted')\n",
    "plt.title('Actual vs. Predicted')\n",
    "plt.plot([y.min(), y.max()), [y.min(), y.max()), 'k--', lw=4)  # 添加一条完美预测的对角线\n",
    "plt.show()\n",
    "\n",
    "# 各特征系数的影响力\n",
    "coefficients.plot(kind='barh')\n",
    "plt.title('Feature Coefficients')\n",
    "plt.axvline(x=0, color='.5')\n",
    "plt.subplots_adjust(left=.3)\n"
   ]
  },
  {
   "cell_type": "code",
   "execution_count": null,
   "id": "af14fac0",
   "metadata": {},
   "outputs": [],
   "source": [
    "# 特征列列表\n",
    "features = X.columns\n",
    "\n",
    "# 设置画布大小\n",
    "plt.figure(figsize=(20, 15))\n",
    "\n",
    "# 遍历特征列表，为每个特征绘图\n",
    "for i, feature in enumerate(features, 1):\n",
    "    plt.subplot((len(features) + 4) // 4, 4, i)  # 确保足够的子图空间\n",
    "    sns.scatterplot(x=data5['Happiness_Score'), y=data5[feature))\n",
    "    plt.title(f'{feature}')\n",
    "    plt.ylabel('')\n",
    "    plt.xlabel('Happiness Score')\n",
    "# 调整子图间距\n",
    "plt.tight_layout()\n",
    "plt.savefig(\"/Users/zhoudaozhen/Desktop/722/iteration3/Figures/60.png\", format='png')\n",
    "plt.show()\n"
   ]
  },
  {
   "cell_type": "code",
   "execution_count": null,
   "id": "4c2e07f3",
   "metadata": {},
   "outputs": [],
   "source": [
    "data5.columns "
   ]
  },
  {
   "cell_type": "code",
   "execution_count": null,
   "id": "ab2dcb6b",
   "metadata": {},
   "outputs": [],
   "source": [
    "from sklearn.decomposition import PCA\n",
    "\n",
    "pca = PCA(n_components=2)\n",
    "data_pca = pca.fit_transform(numeric_data)\n",
    "\n",
    "# 将PCA结果和聚类标签组合\n",
    "data_pca_clustered = spark.createDataFrame(data_pca, columns=['PC1', 'PC2'))\n",
    "data_pca_clustered['Cluster') = clusters\n",
    "\n",
    "# 可视化\n",
    "plt.figure(figsize=(10, 8))\n",
    "sns.scatterplot(data=data_pca_clustered, x='PC1', y='PC2', hue='Cluster', palette='viridis', alpha=0.7)\n",
    "plt.title('Clusters visualized with PCA')\n",
    "plt.show()\n"
   ]
  },
  {
   "cell_type": "code",
   "execution_count": null,
   "id": "9e123eab",
   "metadata": {},
   "outputs": [],
   "source": [
    "numeric_data['Cluster') = clusters\n",
    "# 计算每个簇的大小\n",
    "cluster_sizes = numeric_data['Cluster').value_counts()\n",
    "\n",
    "# 定义颜色数组，数量应与簇的数量一致\n",
    "colors = plt.cm.tab20.colors[:len(cluster_sizes))\n",
    "\n",
    "# 绘制饼图\n",
    "plt.figure(figsize=(8, 8))  # 设置图形的大小\n",
    "plt.pie(cluster_sizes, labels=cluster_sizes.index, autopct='%1.1f%%', colors=colors, startangle=90)\n",
    "plt.title('Cluster Size Distribution')\n",
    "plt.axis('equal')  # Equal aspect ratio ensures that pie is drawn as a circle.\n",
    "plt.savefig(\"/Users/zhoudaozhen/Desktop/722/iteration3/Figures/61.png\", format='png')\n",
    "# 显示图形\n",
    "plt.show()\n"
   ]
  },
  {
   "cell_type": "code",
   "execution_count": null,
   "id": "b1aa6410",
   "metadata": {},
   "outputs": [],
   "source": [
    "# 确保Seaborn的样式\n",
    "sns.set(style=\"whitegrid\")\n",
    "\n",
    "# 创建一个箱型图，表示不同簇的Happiness Score\n",
    "plt.figure(figsize=(10, 6))  # 设置图形的大小\n",
    "sns.boxplot(x='Cluster', y='Happiness Score', data=numeric_data)\n",
    "\n",
    "plt.title('Happiness Score Distribution by Cluster')\n",
    "plt.xlabel('Cluster')\n",
    "plt.ylabel('Happiness Score')\n",
    "plt.savefig(\"/Users/zhoudaozhen/Desktop/722/iteration3/Figures/62.png\", format='png')\n",
    "# 显示图形\n",
    "plt.show()"
   ]
  },
  {
   "cell_type": "code",
   "execution_count": null,
   "id": "5d5d77c2",
   "metadata": {},
   "outputs": [],
   "source": [
    "cluster_sizes = pd.Series({\n",
    "    0: 895,\n",
    "    1: 377,\n",
    "    2: 223\n",
    "})"
   ]
  },
  {
   "cell_type": "code",
   "execution_count": null,
   "id": "abc9ed17",
   "metadata": {},
   "outputs": [],
   "source": [
    "# 预测值与实际值的对比图\n",
    "\n",
    "y_pred = model3.predict(X_test_interactions_df)\n",
    "plt.figure(figsize=(10, 6))\n",
    "plt.scatter(y_test, y_pred, alpha=0.75, color='b')  # 预测值和实际值的散点图\n",
    "plt.xlabel('Actual')\n",
    "plt.ylabel('Predicted')\n",
    "plt.title('Actual vs. Predicted')\n",
    "plt.plot([y.min(), y.max()), [y.min(), y.max()), 'k--', lw=4)  # 添加一条完美预测的对角线\n",
    "plt.show()\n",
    "\n",
    "# 各特征系数的影响力\n",
    "coefficients.plot(kind='barh')\n",
    "plt.title('Feature Coefficients')\n",
    "plt.axvline(x=0, color='.5')\n",
    "plt.subplots_adjust(left=.3)\n"
   ]
  },
  {
   "cell_type": "code",
   "execution_count": null,
   "id": "3bd0e9f1",
   "metadata": {},
   "outputs": [],
   "source": [
    "sns.set(style=\"whitegrid\")\n",
    "\n",
    "# 创建一个箱型图，表示COVID_Impact为0和1时Happiness Score的分布\n",
    "plt.figure(figsize=(8, 6))  # 设置图形的大小\n",
    "sns.boxplot(x='COVID_Impact', y='Happiness_Score', data=numeric_data)\n",
    "\n",
    "plt.title('Distribution of Happiness Score by COVID Impact')\n",
    "plt.xlabel('COVID Impact')\n",
    "plt.ylabel('Happiness_Score')\n",
    "plt.savefig(\"/Users/zhoudaozhen/Desktop/722/iteration3/Figures/63.png\", format='png')\n",
    "# 显示图形\n",
    "plt.show()"
   ]
  },
  {
   "cell_type": "code",
   "execution_count": null,
   "id": "4353098d",
   "metadata": {},
   "outputs": [],
   "source": [
    "import seaborn as sns\n",
    "import matplotlib.pyplot as plt\n",
    "\n",
    "# 设置Seaborn样式\n",
    "sns.set(style=\"whitegrid\")\n",
    "\n",
    "# 准备数据：分别筛选COVID_Impact为0和1的数据，并计算每个Happiness Score的Life Expectancy平均值\n",
    "mean_life_exp_covid_0 = numeric_data[numeric_data['COVID_Impact') == 0).groupby('Happiness_Score')['Life_Expectancy').select(mean('column')).collect()[0)[0).reset_index()\n",
    "mean_life_exp_covid_1 = numeric_data[numeric_data['COVID_Impact') == 1).groupby('Happiness_Score')['Life_Expectancy').select(mean('column')).collect()[0)[0).reset_index()\n",
    "\n",
    "# 创建一个1x2的子图布局\n",
    "fig, ax = plt.subplots(nrows=1, ncols=2, figsize=(14, 6))\n",
    "\n",
    "# 在第一个子图中绘制COVID_Impact为0的数据\n",
    "sns.lineplot(x='Happiness_Score', y='Life_Expectancy', data=mean_life_exp_covid_0, ax=ax[0), marker='o')\n",
    "ax[0).set_title('Life Expectancy vs. Happiness Score (COVID Impact = 0)')\n",
    "ax[0).set_xlabel('Happiness Score')\n",
    "ax[0).set_ylabel('Life Expectancy')\n",
    "\n",
    "# 在第二个子图中绘制COVID_Impact为1的数据\n",
    "sns.lineplot(x='Happiness_Score', y='Life_Expectancy', data=mean_life_exp_covid_1, ax=ax[1), marker='o')\n",
    "ax[1).set_title('Life Expectancy vs. Happiness Score (COVID Impact = 1)')\n",
    "ax[1).set_xlabel('Happiness Score')\n",
    "ax[1).set_ylabel('Life Expectancy')\n",
    "\n",
    "# 调整子图间距\n",
    "plt.tight_layout()\n",
    "plt.savefig(\"/Users/zhoudaozhen/Desktop/722/iteration3/Figures/65.png\", format='png')\n",
    "# 显示图形\n",
    "plt.show()\n"
   ]
  },
  {
   "cell_type": "code",
   "execution_count": null,
   "id": "7cd035cd",
   "metadata": {},
   "outputs": [],
   "source": [
    "# 基本统计评估\n",
    "mse = mean_squared_error(y_test, y_pred)\n",
    "r2 = r2_score(y_test, y_pred)\n",
    "\n",
    "print(\"Mean Squared Error:\", mse)\n",
    "print(\"R^2 Score:\", r2)\n",
    "\n",
    "# 分析模型的适用性和限制\n",
    "print(\"\\nModel Evaluation:\")\n",
    "print(\"The model explains {:.2f}% of the total variance in the dependent variable.\".format(r2 * 100))\n",
    "print(\"MSE indicates the average squared difference between actual and predicted values:\", mse)\n",
    "\n",
    "# 残差分析\n",
    "residuals = y_test - y_pred\n",
    "plt.figure(figsize=(10, 6))\n",
    "sns.residplot(x=y_pred, y=residuals, lowess=True, color=\"g\")\n",
    "plt.xlabel('Predicted Values')\n",
    "plt.ylabel('Residuals')\n",
    "plt.title('Residuals vs Predicted Values')\n",
    "plt.show()\n",
    "\n",
    "# 检查残差的正态分布\n",
    "plt.figure(figsize=(10, 6))\n",
    "sns.histplot(residuals, kde=True)\n",
    "plt.title('Distribution of Residuals')\n",
    "plt.xlabel('Residuals')\n",
    "plt.ylabel('Frequency')\n",
    "plt.show()\n"
   ]
  },
  {
   "cell_type": "code",
   "execution_count": null,
   "id": "9aadf826",
   "metadata": {},
   "outputs": [],
   "source": [
    "from sklearn.metrics import silhouette_score\n",
    "\n",
    "silhouette_avg = silhouette_score(numeric_data, clusters)\n",
    "print(f\"The average silhouette_score is : {silhouette_avg}\")\n"
   ]
  },
  {
   "cell_type": "code",
   "execution_count": null,
   "id": "0dd6a040",
   "metadata": {},
   "outputs": [],
   "source": []
  },
  {
   "cell_type": "code",
   "execution_count": null,
   "id": "4b7d2cda",
   "metadata": {},
   "outputs": [],
   "source": []
  },
  {
   "cell_type": "code",
   "execution_count": null,
   "id": "03db0599",
   "metadata": {},
   "outputs": [],
   "source": []
  },
  {
   "cell_type": "code",
   "execution_count": null,
   "id": "0e85c9ce",
   "metadata": {},
   "outputs": [],
   "source": []
  }
 ],
 "metadata": {},
 "nbformat": 4,
 "nbformat_minor": 5
}
